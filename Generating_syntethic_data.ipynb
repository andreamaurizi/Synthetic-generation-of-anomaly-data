{
  "nbformat": 4,
  "nbformat_minor": 0,
  "metadata": {
    "colab": {
      "provenance": [],
      "authorship_tag": "ABX9TyNP1i2y8BwWsyRu7dUXWLTP",
      "include_colab_link": true
    },
    "kernelspec": {
      "name": "python3",
      "display_name": "Python 3"
    },
    "language_info": {
      "name": "python"
    }
  },
  "cells": [
    {
      "cell_type": "markdown",
      "metadata": {
        "id": "view-in-github",
        "colab_type": "text"
      },
      "source": [
        "<a href=\"https://colab.research.google.com/github/andreamaurizi/Synthetic-generation-of-anomaly-data/blob/main/Generating_syntethic_data.ipynb\" target=\"_parent\"><img src=\"https://colab.research.google.com/assets/colab-badge.svg\" alt=\"Open In Colab\"/></a>"
      ]
    },
    {
      "cell_type": "markdown",
      "source": [
        "# Devo fare preprocessing dei dati e splittarli in training e test set"
      ],
      "metadata": {
        "id": "mUQhOd6YzISz"
      }
    },
    {
      "cell_type": "markdown",
      "source": [
        " xoxp"
      ],
      "metadata": {
        "id": "Dl2jjBzumUV2"
      }
    },
    {
      "cell_type": "code",
      "source": [],
      "metadata": {
        "id": "1s143JT7mT9H"
      },
      "execution_count": null,
      "outputs": []
    }
  ]
}